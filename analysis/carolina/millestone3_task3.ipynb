{
 "cells": [
  {
   "cell_type": "markdown",
   "id": "7c83ca9e-109d-4832-9a88-142b0740cd38",
   "metadata": {},
   "source": [
    "## Task 3 - Data Process for Tableau Dashboard"
   ]
  },
  {
   "cell_type": "code",
   "execution_count": 1,
   "id": "416e4485-4f95-478e-a5c5-44c8a49656e4",
   "metadata": {},
   "outputs": [],
   "source": [
    "import pandas as pd\n",
    "from scripts import project_functions"
   ]
  },
  {
   "cell_type": "code",
   "execution_count": 8,
   "id": "90eda13b-b58f-4525-8e10-e7063813557f",
   "metadata": {},
   "outputs": [
    {
     "data": {
      "text/html": [
       "<div>\n",
       "<style scoped>\n",
       "    .dataframe tbody tr th:only-of-type {\n",
       "        vertical-align: middle;\n",
       "    }\n",
       "\n",
       "    .dataframe tbody tr th {\n",
       "        vertical-align: top;\n",
       "    }\n",
       "\n",
       "    .dataframe thead th {\n",
       "        text-align: right;\n",
       "    }\n",
       "</style>\n",
       "<table border=\"1\" class=\"dataframe\">\n",
       "  <thead>\n",
       "    <tr style=\"text-align: right;\">\n",
       "      <th></th>\n",
       "      <th>Number of employees</th>\n",
       "      <th>consequence</th>\n",
       "      <th>coworkers</th>\n",
       "      <th>supervisor</th>\n",
       "    </tr>\n",
       "  </thead>\n",
       "  <tbody>\n",
       "    <tr>\n",
       "      <th>0</th>\n",
       "      <td>25-Jun</td>\n",
       "      <td>No</td>\n",
       "      <td>Some of them</td>\n",
       "      <td>Yes</td>\n",
       "    </tr>\n",
       "    <tr>\n",
       "      <th>1</th>\n",
       "      <td>More than 1000</td>\n",
       "      <td>Maybe</td>\n",
       "      <td>No</td>\n",
       "      <td>No</td>\n",
       "    </tr>\n",
       "    <tr>\n",
       "      <th>2</th>\n",
       "      <td>25-Jun</td>\n",
       "      <td>No</td>\n",
       "      <td>Yes</td>\n",
       "      <td>Yes</td>\n",
       "    </tr>\n",
       "    <tr>\n",
       "      <th>3</th>\n",
       "      <td>26-100</td>\n",
       "      <td>Yes</td>\n",
       "      <td>Some of them</td>\n",
       "      <td>No</td>\n",
       "    </tr>\n",
       "    <tr>\n",
       "      <th>4</th>\n",
       "      <td>100-500</td>\n",
       "      <td>No</td>\n",
       "      <td>Some of them</td>\n",
       "      <td>Yes</td>\n",
       "    </tr>\n",
       "  </tbody>\n",
       "</table>\n",
       "</div>"
      ],
      "text/plain": [
       "  Number of employees consequence     coworkers supervisor\n",
       "0              25-Jun          No  Some of them        Yes\n",
       "1      More than 1000       Maybe            No         No\n",
       "2              25-Jun          No           Yes        Yes\n",
       "3              26-100         Yes  Some of them         No\n",
       "4             100-500          No  Some of them        Yes"
      ]
     },
     "execution_count": 8,
     "metadata": {},
     "output_type": "execute_result"
    }
   ],
   "source": [
    "processed_data_ct= (project_functions.load_and_process_ct(\"C:/Users/cltom/OneDrive/Documents/COSC301/project-group37-project/data/raw/mentalhealthintech.csv\")\n",
    "                    .rename(columns= {\"employees\":\"Number of employees\"}))\n",
    "processed_data_ct.head()"
   ]
  },
  {
   "cell_type": "code",
   "execution_count": 9,
   "id": "edc1e780-8fee-4d77-9316-91114753b38a",
   "metadata": {},
   "outputs": [],
   "source": [
    "processed_data_ct.to_csv(\"C:/Users/cltom/OneDrive/Documents/COSC301/project-group37-project/data/processed/mht_processed_ct.csv\")"
   ]
  }
 ],
 "metadata": {
  "kernelspec": {
   "display_name": "Python 3 (ipykernel)",
   "language": "python",
   "name": "python3"
  },
  "language_info": {
   "codemirror_mode": {
    "name": "ipython",
    "version": 3
   },
   "file_extension": ".py",
   "mimetype": "text/x-python",
   "name": "python",
   "nbconvert_exporter": "python",
   "pygments_lexer": "ipython3",
   "version": "3.8.5"
  }
 },
 "nbformat": 4,
 "nbformat_minor": 5
}
