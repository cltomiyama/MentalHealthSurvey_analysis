{
 "cells": [
  {
   "cell_type": "code",
   "execution_count": 4,
   "id": "833c8844-b19b-4940-b2c6-d5be9621d461",
   "metadata": {},
   "outputs": [],
   "source": [
    "import pandas as pd\n",
    "import numpy as np\n",
    "import seaborn as sns\n",
    "import os\n",
    "import sys\n",
    "import matplotlib.pyplot as plt\n",
    "\n",
    "def load_and_process(path=\"data/raw/mentalhealthintech.csv\"):\n",
    "    \n",
    "    df1 = (\n",
    "          pd.read_csv(\"data/raw/mentalhealthintech.csv\")\n",
    "          .drop(columns=['state','self_employed','work_interfere','coworkers','supervisor','mental_vs_physical','anonymity','obs_consequence','mental_health_interview','care_options','phys_health_interview','comments'])\n",
    "          .dropna(subset=['family_history','no_employees', 'remote_work','mental_health_consequence','phys_health_consequence'])\n",
    "          .reset_index(drop=False)\n",
    "          .drop(['index'],axis=1)\n",
    "    )\n",
    "    \n",
    "\n",
    "    return df1"
   ]
  },
  {
   "cell_type": "code",
   "execution_count": null,
   "id": "ed700a0e-6512-4126-a099-1e41f1507cdc",
   "metadata": {},
   "outputs": [],
   "source": []
  }
 ],
 "metadata": {
  "kernelspec": {
   "display_name": "Python 3 (ipykernel)",
   "language": "python",
   "name": "python3"
  },
  "language_info": {
   "codemirror_mode": {
    "name": "ipython",
    "version": 3
   },
   "file_extension": ".py",
   "mimetype": "text/x-python",
   "name": "python",
   "nbconvert_exporter": "python",
   "pygments_lexer": "ipython3",
   "version": "3.8.5"
  }
 },
 "nbformat": 4,
 "nbformat_minor": 5
}
